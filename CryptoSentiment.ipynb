{
 "cells": [
  {
   "cell_type": "code",
   "execution_count": 10,
   "id": "2dd44fdd-1158-4590-8656-d3842c1bf97b",
   "metadata": {},
   "outputs": [],
   "source": [
    "import sys"
   ]
  },
  {
   "cell_type": "markdown",
   "id": "83a25725-47d8-4d97-8e05-95462e0a3729",
   "metadata": {},
   "source": [
    "!{sys.executable} -m pip install mwclient"
   ]
  },
  {
   "cell_type": "markdown",
   "id": "69c3fe58-6b9b-4c5d-8629-0a614b25325c",
   "metadata": {},
   "source": [
    "!{sys.executable} -m pip install transformers"
   ]
  },
  {
   "cell_type": "markdown",
   "id": "252f93ff-5181-41d0-af3b-065bd48946b8",
   "metadata": {},
   "source": [
    "!{sys.executable} -m pip install torch torchvision torchaudio"
   ]
  },
  {
   "cell_type": "markdown",
   "id": "17caf51a-f3dc-4b42-9f6d-a9aae691d1af",
   "metadata": {},
   "source": [
    "!{sys.executable} -m pip install tensorflow"
   ]
  },
  {
   "cell_type": "markdown",
   "id": "69a6d8cf-6d56-4bc2-b4df-3a4b545a98fe",
   "metadata": {},
   "source": [
    "!{sys.executable} -m pip install tf-keras"
   ]
  },
  {
   "cell_type": "markdown",
   "id": "edef72f0-cac7-479a-b67c-6d2358ec1f93",
   "metadata": {},
   "source": [
    "!{sys.executable} -m pip install pandas"
   ]
  },
  {
   "cell_type": "code",
   "execution_count": 74,
   "id": "23d961b1-a018-4eb6-b2c4-7bdf9a912c1c",
   "metadata": {},
   "outputs": [],
   "source": [
    "import mwclient\n",
    "import time\n",
    "\n",
    "site = mwclient.Site('en.wikipedia.org')\n",
    "page = site.pages['Ethereum']\n"
   ]
  },
  {
   "cell_type": "code",
   "execution_count": 75,
   "id": "346d9524-9340-4d7d-a5d7-6d23c94f61db",
   "metadata": {},
   "outputs": [
    {
     "data": {
      "text/plain": [
       "OrderedDict([('revid', 1219872278),\n",
       "             ('parentid', 1218713785),\n",
       "             ('minor', ''),\n",
       "             ('user', '0dd b1t'),\n",
       "             ('timestamp',\n",
       "              time.struct_time(tm_year=2024, tm_mon=4, tm_mday=20, tm_hour=10, tm_min=41, tm_sec=36, tm_wday=5, tm_yday=111, tm_isdst=-1)),\n",
       "             ('comment',\n",
       "              '/* History */ seems like Buterin means only blockchain, not Bitcoin even particularly cause BTC cannot apply Layer2')])"
      ]
     },
     "execution_count": 75,
     "metadata": {},
     "output_type": "execute_result"
    }
   ],
   "source": [
    "revs = list(page.revisions())\n",
    "revs[0]"
   ]
  },
  {
   "cell_type": "code",
   "execution_count": 76,
   "id": "b9953370-1746-4303-9961-a931658cd748",
   "metadata": {},
   "outputs": [],
   "source": [
    "revs = sorted(revs, key=lambda rev: rev[\"timestamp\"]) ##Sorting by timpestamp"
   ]
  },
  {
   "cell_type": "code",
   "execution_count": 77,
   "id": "a4b8de8d-3cb8-4b26-90df-d7e5ecda4545",
   "metadata": {},
   "outputs": [
    {
     "data": {
      "text/plain": [
       "OrderedDict([('revid', 592567939),\n",
       "             ('parentid', 0),\n",
       "             ('user', 'Sanpitch'),\n",
       "             ('timestamp',\n",
       "              time.struct_time(tm_year=2014, tm_mon=1, tm_mday=27, tm_hour=1, tm_min=53, tm_sec=45, tm_wday=0, tm_yday=27, tm_isdst=-1)),\n",
       "             ('comment',\n",
       "              \"[[WP:AES|←]]Created page with '{{Infobox currency | image_1 =  | image_title_1 =  | image_width_1 =  | image_2 =  | image_title_2 =  | image_width_2 =  |issuing_authority = None. The Ethereum...'\")])"
      ]
     },
     "execution_count": 77,
     "metadata": {},
     "output_type": "execute_result"
    }
   ],
   "source": [
    "revs[0]"
   ]
  },
  {
   "cell_type": "code",
   "execution_count": 78,
   "id": "d81ead91-01f5-466a-94af-b5ec37d399cf",
   "metadata": {},
   "outputs": [],
   "source": [
    "import torch"
   ]
  },
  {
   "cell_type": "code",
   "execution_count": 79,
   "id": "6f568e6b-9c6e-498f-bcfe-e153f0541d2c",
   "metadata": {},
   "outputs": [
    {
     "name": "stderr",
     "output_type": "stream",
     "text": [
      "No model was supplied, defaulted to distilbert/distilbert-base-uncased-finetuned-sst-2-english and revision af0f99b (https://huggingface.co/distilbert/distilbert-base-uncased-finetuned-sst-2-english).\n",
      "Using a pipeline without specifying a model name and revision in production is not recommended.\n",
      "C:\\Users\\sheas\\AppData\\Local\\Programs\\Python\\Python312\\Lib\\site-packages\\huggingface_hub\\file_download.py:1132: FutureWarning: `resume_download` is deprecated and will be removed in version 1.0.0. Downloads always resume when possible. If you want to force a new download, use `force_download=True`.\n",
      "  warnings.warn(\n"
     ]
    }
   ],
   "source": [
    "from transformers import pipeline\n",
    "sentiment_pipeline = pipeline(\"text-classification\")\n",
    "\n",
    "def find_sentiment(text):\n",
    "    sent = sentiment_pipeline([text[:250]])[0]\n",
    "    score = sent[\"score\"]\n",
    "    if sent[\"label\"] == \"NEGATIVE\":\n",
    "        score *= -1\n",
    "    return score"
   ]
  },
  {
   "cell_type": "code",
   "execution_count": 80,
   "id": "8e01e135-e918-453a-882a-59b179a40f81",
   "metadata": {},
   "outputs": [
    {
     "data": {
      "text/plain": [
       "0.7481209635734558"
      ]
     },
     "execution_count": 80,
     "metadata": {},
     "output_type": "execute_result"
    }
   ],
   "source": [
    "find_sentiment(\"\")"
   ]
  },
  {
   "cell_type": "code",
   "execution_count": 81,
   "id": "5d086b69-31fd-47c5-bcf8-17f6c0db1f10",
   "metadata": {},
   "outputs": [],
   "source": [
    "edits = {}\n",
    "\n",
    "for rev in revs:        \n",
    "    date = time.strftime(\"%Y-%m-%d\", rev[\"timestamp\"])\n",
    "    if date not in edits:\n",
    "        edits[date] = dict(sentiments=list(), edit_count=0)\n",
    "    \n",
    "    edits[date][\"edit_count\"] += 1\n",
    "    \n",
    "    comment = rev.get(\"comment\", \"\")\n",
    "    edits[date][\"sentiments\"].append(find_sentiment(comment))"
   ]
  },
  {
   "cell_type": "code",
   "execution_count": 82,
   "id": "86a2f653-17a0-4756-987d-b097757e1e18",
   "metadata": {},
   "outputs": [],
   "source": [
    "from statistics import mean\n",
    "\n",
    "for key in edits:\n",
    "    if len(edits[key][\"sentiments\"]) > 0:\n",
    "        edits[key][\"sentiment\"] = mean(edits[key][\"sentiments\"])\n",
    "        edits[key][\"neg_sentiment\"] = len([s for s in edits[key][\"sentiments\"] if s < 0]) / len(edits[key][\"sentiments\"])\n",
    "    else:\n",
    "        edits[key][\"sentiment\"] = 0\n",
    "        edits[key][\"neg_sentiment\"] = 0\n",
    "    \n",
    "    del edits[key][\"sentiments\"]"
   ]
  },
  {
   "cell_type": "markdown",
   "id": "d2c9d9c0-dff5-4c7d-8f54-f380d9e15b17",
   "metadata": {},
   "source": [
    "edits"
   ]
  },
  {
   "cell_type": "code",
   "execution_count": 83,
   "id": "fc5ee4f9-c287-4557-89a3-22e630cf11f6",
   "metadata": {},
   "outputs": [],
   "source": [
    "import pandas as pd\n",
    "\n",
    "edits_df = pd.DataFrame.from_dict(edits, orient=\"index\")"
   ]
  },
  {
   "cell_type": "code",
   "execution_count": 84,
   "id": "b177807e-b369-4ba2-9c36-2a8941d29da4",
   "metadata": {},
   "outputs": [
    {
     "data": {
      "text/html": [
       "<div>\n",
       "<style scoped>\n",
       "    .dataframe tbody tr th:only-of-type {\n",
       "        vertical-align: middle;\n",
       "    }\n",
       "\n",
       "    .dataframe tbody tr th {\n",
       "        vertical-align: top;\n",
       "    }\n",
       "\n",
       "    .dataframe thead th {\n",
       "        text-align: right;\n",
       "    }\n",
       "</style>\n",
       "<table border=\"1\" class=\"dataframe\">\n",
       "  <thead>\n",
       "    <tr style=\"text-align: right;\">\n",
       "      <th></th>\n",
       "      <th>edit_count</th>\n",
       "      <th>sentiment</th>\n",
       "      <th>neg_sentiment</th>\n",
       "    </tr>\n",
       "  </thead>\n",
       "  <tbody>\n",
       "    <tr>\n",
       "      <th>2014-01-27</th>\n",
       "      <td>1</td>\n",
       "      <td>-0.998511</td>\n",
       "      <td>1.000000</td>\n",
       "    </tr>\n",
       "    <tr>\n",
       "      <th>2014-02-01</th>\n",
       "      <td>1</td>\n",
       "      <td>-0.997276</td>\n",
       "      <td>1.000000</td>\n",
       "    </tr>\n",
       "    <tr>\n",
       "      <th>2014-04-06</th>\n",
       "      <td>5</td>\n",
       "      <td>0.790979</td>\n",
       "      <td>0.000000</td>\n",
       "    </tr>\n",
       "    <tr>\n",
       "      <th>2014-04-09</th>\n",
       "      <td>24</td>\n",
       "      <td>0.646407</td>\n",
       "      <td>0.083333</td>\n",
       "    </tr>\n",
       "    <tr>\n",
       "      <th>2014-04-10</th>\n",
       "      <td>9</td>\n",
       "      <td>-0.361518</td>\n",
       "      <td>0.666667</td>\n",
       "    </tr>\n",
       "    <tr>\n",
       "      <th>...</th>\n",
       "      <td>...</td>\n",
       "      <td>...</td>\n",
       "      <td>...</td>\n",
       "    </tr>\n",
       "    <tr>\n",
       "      <th>2024-03-19</th>\n",
       "      <td>1</td>\n",
       "      <td>-0.999787</td>\n",
       "      <td>1.000000</td>\n",
       "    </tr>\n",
       "    <tr>\n",
       "      <th>2024-04-01</th>\n",
       "      <td>2</td>\n",
       "      <td>-0.999709</td>\n",
       "      <td>1.000000</td>\n",
       "    </tr>\n",
       "    <tr>\n",
       "      <th>2024-04-03</th>\n",
       "      <td>2</td>\n",
       "      <td>-0.010781</td>\n",
       "      <td>0.500000</td>\n",
       "    </tr>\n",
       "    <tr>\n",
       "      <th>2024-04-13</th>\n",
       "      <td>1</td>\n",
       "      <td>-0.999720</td>\n",
       "      <td>1.000000</td>\n",
       "    </tr>\n",
       "    <tr>\n",
       "      <th>2024-04-20</th>\n",
       "      <td>1</td>\n",
       "      <td>-0.998095</td>\n",
       "      <td>1.000000</td>\n",
       "    </tr>\n",
       "  </tbody>\n",
       "</table>\n",
       "<p>1164 rows × 3 columns</p>\n",
       "</div>"
      ],
      "text/plain": [
       "            edit_count  sentiment  neg_sentiment\n",
       "2014-01-27           1  -0.998511       1.000000\n",
       "2014-02-01           1  -0.997276       1.000000\n",
       "2014-04-06           5   0.790979       0.000000\n",
       "2014-04-09          24   0.646407       0.083333\n",
       "2014-04-10           9  -0.361518       0.666667\n",
       "...                ...        ...            ...\n",
       "2024-03-19           1  -0.999787       1.000000\n",
       "2024-04-01           2  -0.999709       1.000000\n",
       "2024-04-03           2  -0.010781       0.500000\n",
       "2024-04-13           1  -0.999720       1.000000\n",
       "2024-04-20           1  -0.998095       1.000000\n",
       "\n",
       "[1164 rows x 3 columns]"
      ]
     },
     "execution_count": 84,
     "metadata": {},
     "output_type": "execute_result"
    }
   ],
   "source": [
    "edits_df"
   ]
  },
  {
   "cell_type": "code",
   "execution_count": 85,
   "id": "8b70e9db-f1c6-4730-855e-02a809631a57",
   "metadata": {},
   "outputs": [],
   "source": [
    "edits_df.index = pd.to_datetime(edits_df.index)\n"
   ]
  },
  {
   "cell_type": "code",
   "execution_count": 93,
   "id": "a114ac74-0806-4928-a1e3-e78271aae44b",
   "metadata": {},
   "outputs": [],
   "source": [
    "from datetime import datetime\n",
    "\n",
    "dates = pd.date_range(start=\"2014-04-06\",end=datetime.today())"
   ]
  },
  {
   "cell_type": "code",
   "execution_count": 94,
   "id": "8c3d0bfe-04fe-4fa6-90d0-cdd4a9a4ef07",
   "metadata": {},
   "outputs": [],
   "source": [
    "edits_df = edits_df.reindex(dates, fill_value=0)"
   ]
  },
  {
   "cell_type": "code",
   "execution_count": 95,
   "id": "17f1d92b-83c4-4045-9cfa-0f5cda7a510b",
   "metadata": {},
   "outputs": [
    {
     "data": {
      "text/html": [
       "<div>\n",
       "<style scoped>\n",
       "    .dataframe tbody tr th:only-of-type {\n",
       "        vertical-align: middle;\n",
       "    }\n",
       "\n",
       "    .dataframe tbody tr th {\n",
       "        vertical-align: top;\n",
       "    }\n",
       "\n",
       "    .dataframe thead th {\n",
       "        text-align: right;\n",
       "    }\n",
       "</style>\n",
       "<table border=\"1\" class=\"dataframe\">\n",
       "  <thead>\n",
       "    <tr style=\"text-align: right;\">\n",
       "      <th></th>\n",
       "      <th>edit_count</th>\n",
       "      <th>sentiment</th>\n",
       "      <th>neg_sentiment</th>\n",
       "    </tr>\n",
       "  </thead>\n",
       "  <tbody>\n",
       "    <tr>\n",
       "      <th>2014-04-06</th>\n",
       "      <td>5</td>\n",
       "      <td>0.790979</td>\n",
       "      <td>0.000000</td>\n",
       "    </tr>\n",
       "    <tr>\n",
       "      <th>2014-04-07</th>\n",
       "      <td>0</td>\n",
       "      <td>0.000000</td>\n",
       "      <td>0.000000</td>\n",
       "    </tr>\n",
       "    <tr>\n",
       "      <th>2014-04-08</th>\n",
       "      <td>0</td>\n",
       "      <td>0.000000</td>\n",
       "      <td>0.000000</td>\n",
       "    </tr>\n",
       "    <tr>\n",
       "      <th>2014-04-09</th>\n",
       "      <td>24</td>\n",
       "      <td>0.646407</td>\n",
       "      <td>0.083333</td>\n",
       "    </tr>\n",
       "    <tr>\n",
       "      <th>2014-04-10</th>\n",
       "      <td>9</td>\n",
       "      <td>-0.361518</td>\n",
       "      <td>0.666667</td>\n",
       "    </tr>\n",
       "    <tr>\n",
       "      <th>...</th>\n",
       "      <td>...</td>\n",
       "      <td>...</td>\n",
       "      <td>...</td>\n",
       "    </tr>\n",
       "    <tr>\n",
       "      <th>2024-05-10</th>\n",
       "      <td>0</td>\n",
       "      <td>0.000000</td>\n",
       "      <td>0.000000</td>\n",
       "    </tr>\n",
       "    <tr>\n",
       "      <th>2024-05-11</th>\n",
       "      <td>0</td>\n",
       "      <td>0.000000</td>\n",
       "      <td>0.000000</td>\n",
       "    </tr>\n",
       "    <tr>\n",
       "      <th>2024-05-12</th>\n",
       "      <td>0</td>\n",
       "      <td>0.000000</td>\n",
       "      <td>0.000000</td>\n",
       "    </tr>\n",
       "    <tr>\n",
       "      <th>2024-05-13</th>\n",
       "      <td>0</td>\n",
       "      <td>0.000000</td>\n",
       "      <td>0.000000</td>\n",
       "    </tr>\n",
       "    <tr>\n",
       "      <th>2024-05-14</th>\n",
       "      <td>0</td>\n",
       "      <td>0.000000</td>\n",
       "      <td>0.000000</td>\n",
       "    </tr>\n",
       "  </tbody>\n",
       "</table>\n",
       "<p>3692 rows × 3 columns</p>\n",
       "</div>"
      ],
      "text/plain": [
       "            edit_count  sentiment  neg_sentiment\n",
       "2014-04-06           5   0.790979       0.000000\n",
       "2014-04-07           0   0.000000       0.000000\n",
       "2014-04-08           0   0.000000       0.000000\n",
       "2014-04-09          24   0.646407       0.083333\n",
       "2014-04-10           9  -0.361518       0.666667\n",
       "...                ...        ...            ...\n",
       "2024-05-10           0   0.000000       0.000000\n",
       "2024-05-11           0   0.000000       0.000000\n",
       "2024-05-12           0   0.000000       0.000000\n",
       "2024-05-13           0   0.000000       0.000000\n",
       "2024-05-14           0   0.000000       0.000000\n",
       "\n",
       "[3692 rows x 3 columns]"
      ]
     },
     "execution_count": 95,
     "metadata": {},
     "output_type": "execute_result"
    }
   ],
   "source": [
    "edits_df"
   ]
  },
  {
   "cell_type": "code",
   "execution_count": 96,
   "id": "4dff5788-4787-47b4-bf4a-3ea7fb18cb68",
   "metadata": {},
   "outputs": [],
   "source": [
    "rolling_edits = edits_df.rolling(30, min_periods=30).mean()"
   ]
  },
  {
   "cell_type": "code",
   "execution_count": 97,
   "id": "1375ccac-784a-45e4-9a7a-99dd7a4a9ce8",
   "metadata": {},
   "outputs": [],
   "source": [
    "rolling_edits = rolling_edits.dropna()"
   ]
  },
  {
   "cell_type": "code",
   "execution_count": 98,
   "id": "23762c41-a717-4789-9926-a4371ba5158a",
   "metadata": {},
   "outputs": [
    {
     "data": {
      "text/html": [
       "<div>\n",
       "<style scoped>\n",
       "    .dataframe tbody tr th:only-of-type {\n",
       "        vertical-align: middle;\n",
       "    }\n",
       "\n",
       "    .dataframe tbody tr th {\n",
       "        vertical-align: top;\n",
       "    }\n",
       "\n",
       "    .dataframe thead th {\n",
       "        text-align: right;\n",
       "    }\n",
       "</style>\n",
       "<table border=\"1\" class=\"dataframe\">\n",
       "  <thead>\n",
       "    <tr style=\"text-align: right;\">\n",
       "      <th></th>\n",
       "      <th>edit_count</th>\n",
       "      <th>sentiment</th>\n",
       "      <th>neg_sentiment</th>\n",
       "    </tr>\n",
       "  </thead>\n",
       "  <tbody>\n",
       "    <tr>\n",
       "      <th>2014-05-05</th>\n",
       "      <td>2.133333</td>\n",
       "      <td>0.119197</td>\n",
       "      <td>0.092778</td>\n",
       "    </tr>\n",
       "    <tr>\n",
       "      <th>2014-05-06</th>\n",
       "      <td>1.966667</td>\n",
       "      <td>0.092831</td>\n",
       "      <td>0.092778</td>\n",
       "    </tr>\n",
       "    <tr>\n",
       "      <th>2014-05-07</th>\n",
       "      <td>1.966667</td>\n",
       "      <td>0.092831</td>\n",
       "      <td>0.092778</td>\n",
       "    </tr>\n",
       "    <tr>\n",
       "      <th>2014-05-08</th>\n",
       "      <td>1.966667</td>\n",
       "      <td>0.092831</td>\n",
       "      <td>0.092778</td>\n",
       "    </tr>\n",
       "    <tr>\n",
       "      <th>2014-05-09</th>\n",
       "      <td>1.166667</td>\n",
       "      <td>0.071284</td>\n",
       "      <td>0.090000</td>\n",
       "    </tr>\n",
       "    <tr>\n",
       "      <th>...</th>\n",
       "      <td>...</td>\n",
       "      <td>...</td>\n",
       "      <td>...</td>\n",
       "    </tr>\n",
       "    <tr>\n",
       "      <th>2024-05-10</th>\n",
       "      <td>0.066667</td>\n",
       "      <td>-0.066594</td>\n",
       "      <td>0.066667</td>\n",
       "    </tr>\n",
       "    <tr>\n",
       "      <th>2024-05-11</th>\n",
       "      <td>0.066667</td>\n",
       "      <td>-0.066594</td>\n",
       "      <td>0.066667</td>\n",
       "    </tr>\n",
       "    <tr>\n",
       "      <th>2024-05-12</th>\n",
       "      <td>0.066667</td>\n",
       "      <td>-0.066594</td>\n",
       "      <td>0.066667</td>\n",
       "    </tr>\n",
       "    <tr>\n",
       "      <th>2024-05-13</th>\n",
       "      <td>0.033333</td>\n",
       "      <td>-0.033270</td>\n",
       "      <td>0.033333</td>\n",
       "    </tr>\n",
       "    <tr>\n",
       "      <th>2024-05-14</th>\n",
       "      <td>0.033333</td>\n",
       "      <td>-0.033270</td>\n",
       "      <td>0.033333</td>\n",
       "    </tr>\n",
       "  </tbody>\n",
       "</table>\n",
       "<p>3663 rows × 3 columns</p>\n",
       "</div>"
      ],
      "text/plain": [
       "            edit_count  sentiment  neg_sentiment\n",
       "2014-05-05    2.133333   0.119197       0.092778\n",
       "2014-05-06    1.966667   0.092831       0.092778\n",
       "2014-05-07    1.966667   0.092831       0.092778\n",
       "2014-05-08    1.966667   0.092831       0.092778\n",
       "2014-05-09    1.166667   0.071284       0.090000\n",
       "...                ...        ...            ...\n",
       "2024-05-10    0.066667  -0.066594       0.066667\n",
       "2024-05-11    0.066667  -0.066594       0.066667\n",
       "2024-05-12    0.066667  -0.066594       0.066667\n",
       "2024-05-13    0.033333  -0.033270       0.033333\n",
       "2024-05-14    0.033333  -0.033270       0.033333\n",
       "\n",
       "[3663 rows x 3 columns]"
      ]
     },
     "execution_count": 98,
     "metadata": {},
     "output_type": "execute_result"
    }
   ],
   "source": [
    "rolling_edits"
   ]
  },
  {
   "cell_type": "code",
   "execution_count": 99,
   "id": "4fb0c0b4-e9ec-4ee2-8954-8bb7c4f6b8a2",
   "metadata": {},
   "outputs": [],
   "source": [
    "rolling_edits.to_csv(\"wikipedia_edits.csv\")"
   ]
  },
  {
   "cell_type": "code",
   "execution_count": null,
   "id": "46302c5a-3c96-45a8-9db2-ed8d92388cf4",
   "metadata": {},
   "outputs": [],
   "source": []
  }
 ],
 "metadata": {
  "kernelspec": {
   "display_name": "Python 3 (ipykernel)",
   "language": "python",
   "name": "python3"
  },
  "language_info": {
   "codemirror_mode": {
    "name": "ipython",
    "version": 3
   },
   "file_extension": ".py",
   "mimetype": "text/x-python",
   "name": "python",
   "nbconvert_exporter": "python",
   "pygments_lexer": "ipython3",
   "version": "3.12.3"
  }
 },
 "nbformat": 4,
 "nbformat_minor": 5
}
